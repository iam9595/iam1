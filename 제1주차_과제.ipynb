{
  "nbformat": 4,
  "nbformat_minor": 0,
  "metadata": {
    "colab": {
      "name": "제1주차 과제",
      "provenance": [],
      "collapsed_sections": [],
      "authorship_tag": "ABX9TyN7eGJE4rHZN450UBbod/dD",
      "include_colab_link": true
    },
    "kernelspec": {
      "name": "python3",
      "display_name": "Python 3"
    }
  },
  "cells": [
    {
      "cell_type": "markdown",
      "metadata": {
        "id": "view-in-github",
        "colab_type": "text"
      },
      "source": [
        "<a href=\"https://colab.research.google.com/github/iam9595/iam1/blob/master/%EC%A0%9C1%EC%A3%BC%EC%B0%A8_%EA%B3%BC%EC%A0%9C.ipynb\" target=\"_parent\"><img src=\"https://colab.research.google.com/assets/colab-badge.svg\" alt=\"Open In Colab\"/></a>"
      ]
    },
    {
      "cell_type": "markdown",
      "metadata": {
        "id": "cEkObHQAdUlf",
        "colab_type": "text"
      },
      "source": [
        "# 제 1주차 과제\n",
        "## 인공지능 서비스 중 4가지\n",
        "\n",
        "1. 음성 인공지능\n",
        " + Clova Premium Voice(CPV) 네이버 인공지능 서비스\n",
        " + 해당 서비스 [CPV](https://www.ncloud.com/product/aiService/cpv \"음성으로 밥 벌어먹는\")\n",
        " + 관련기사 [단독뉴스, 올 10월 AI콜센터](https://www.newspim.com/news/view/20200325001834 \"네이버 콜센터 대체..ㄷㄷ\")\n",
        "\n",
        "2. 바둑 인공지능(알파고)\n",
        " + 알파고 몸체 딥마인드 서비스\n",
        " + [딥마인드 공식 홈페이지](https://deepmind.com/)\n",
        " + 알파고의 실체   \n",
        " <img src=\"https://3.bp.blogspot.com/-_-DoMQ0CuAQ/VzzPgbjhjOI/AAAAAAAACp4/5v6prECMLigEfJ23VigpjPWXoH-lT05UgCLcB/s640/tpu-1.png\" width=\"30%\" height=\"10%\" title=\"인공지능이 거대?하구나...\"></img>\n",
        "\n",
        "    <출처.위키백과'알파고'TPU실물>\n",
        "\n",
        " 3. 자동차 인공지능 (자율주행)\n",
        "  + 테슬라 자율주행\n",
        "  + 구매?[공식홈페이지](https://www.tesla.com/ko_kr/energy)\n",
        "  + 관련기사 [완전주행 옵션,7월 인상...](https://www.yna.co.kr/view/AKR20200519142100009 \"타고 싶다, 사고 싶다.\")\n",
        "\n",
        " 4. 인공지능 교육(학교, 다양한 학습, e러닝 등)\n",
        "  + 토익산타(AI기반 토익 학습)\n",
        "  + 관련기사 [토익 990점 가능?](https://it.donga.com/27267/ \"시험공부의 적절한 예\")\n",
        "  + 소중한글 2.0\n",
        "  관련기사 [한글 공부 인공지능기반](https://platum.kr/archives/141970 \"혼자서 학습이 진정한 학습..!?)\n",
        "  \n",
        "  \n",
        "\n",
        "끝.\n",
        "\n"
      ]
    }
  ]
}